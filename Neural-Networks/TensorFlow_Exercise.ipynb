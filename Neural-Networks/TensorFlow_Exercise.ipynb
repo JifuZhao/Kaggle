{
 "cells": [
  {
   "cell_type": "markdown",
   "metadata": {},
   "source": [
    "### Stanford CS 20SI: Tensorflow for Deep Learning Research\n",
    "* This notebook contains the exercise from [CS20SI](https://web.stanford.edu/class/cs20si/)\n",
    "* This notebook is used for purely exercise purpose\n",
    "* All credit belongs to CS20SI team"
   ]
  },
  {
   "cell_type": "code",
   "execution_count": 1,
   "metadata": {
    "collapsed": true
   },
   "outputs": [],
   "source": [
    "import numpy as np\n",
    "import tensorflow as tf"
   ]
  },
  {
   "cell_type": "markdown",
   "metadata": {},
   "source": [
    "### simple tf"
   ]
  },
  {
   "cell_type": "code",
   "execution_count": 2,
   "metadata": {
    "scrolled": false
   },
   "outputs": [
    {
     "name": "stdout",
     "output_type": "stream",
     "text": [
      "5\n"
     ]
    }
   ],
   "source": [
    "a = tf.constant(2)\n",
    "b = tf.constant(3)\n",
    "x = tf.add(a, b)\n",
    "\n",
    "with tf.Session() as sess:\n",
    "    print(sess.run(x))"
   ]
  },
  {
   "cell_type": "code",
   "execution_count": 3,
   "metadata": {},
   "outputs": [
    {
     "name": "stdout",
     "output_type": "stream",
     "text": [
      "[[0 2]\n",
      " [4 4]] \n",
      "\n",
      "[[4 6]]\n"
     ]
    }
   ],
   "source": [
    "a = tf.constant([[2, 2]], name='a')\n",
    "b = tf.constant([[0, 1], [2, 2]], name='b')\n",
    "x = tf.multiply(a, b, name='dot_product')\n",
    "y = tf.matmul(a, b, name='cross_product')\n",
    "\n",
    "with tf.Session() as sess:\n",
    "    print(sess.run(x), '\\n')\n",
    "    print(sess.run(y))"
   ]
  },
  {
   "cell_type": "code",
   "execution_count": 4,
   "metadata": {
    "scrolled": false
   },
   "outputs": [
    {
     "name": "stdout",
     "output_type": "stream",
     "text": [
      "[[0 0 0]\n",
      " [0 0 0]] \n",
      "\n",
      "[[0 0 0]\n",
      " [0 0 0]]\n"
     ]
    }
   ],
   "source": [
    "x = tf.zeros([2, 3], tf.int32) \n",
    "y = tf.zeros_like(x, optimize=True)\n",
    "with tf.Session() as sess:\n",
    "    print(sess.run(x), '\\n')\n",
    "    print(sess.run(y))"
   ]
  },
  {
   "cell_type": "code",
   "execution_count": 5,
   "metadata": {},
   "outputs": [
    {
     "name": "stdout",
     "output_type": "stream",
     "text": [
      "[ 10.  11.  12.  13.]\n",
      "[0 1 2 3 4]\n"
     ]
    }
   ],
   "source": [
    "with tf.Session() as sess:\n",
    "    print(sess.run(tf.linspace(10.0, 13.0, 4)))\n",
    "    print(sess.run(tf.range(5)))"
   ]
  },
  {
   "cell_type": "code",
   "execution_count": 6,
   "metadata": {},
   "outputs": [
    {
     "name": "stdout",
     "output_type": "stream",
     "text": [
      "[[0 0 2 0 1]]\n"
     ]
    }
   ],
   "source": [
    "samples = tf.multinomial(tf.constant([[1., 1., 1]]), 5)\n",
    "with tf.Session() as sess:\n",
    "    print(sess.run(samples))"
   ]
  },
  {
   "cell_type": "code",
   "execution_count": 7,
   "metadata": {},
   "outputs": [
    {
     "name": "stdout",
     "output_type": "stream",
     "text": [
      "[array([[False, False, False],\n",
      "       [False, False, False],\n",
      "       [False, False, False]], dtype=bool), array([[ True,  True,  True],\n",
      "       [ True,  True,  True],\n",
      "       [ True,  True,  True]], dtype=bool)]\n"
     ]
    }
   ],
   "source": [
    "t_2 = [[True, False, False],\n",
    "       [False, False, True],\n",
    "       [False, True, False]] \n",
    "x = tf.zeros_like(t_2)  # ==> 2x2 tensor, all elements are False\n",
    "y = tf.ones_like(t_2)  # ==> 2x2 tensor, all elements are True\n",
    "with tf.Session() as sess:\n",
    "    print(sess.run([x, y]))"
   ]
  },
  {
   "cell_type": "code",
   "execution_count": 8,
   "metadata": {
    "scrolled": false
   },
   "outputs": [
    {
     "name": "stdout",
     "output_type": "stream",
     "text": [
      "tmp1/a:0 \t [-0.54506922 -0.52918458  0.28080463]\n",
      "tmp1/b:0 \t [ 0.75396538 -0.01538348  0.01470685]\n",
      "tmp1_1/add:0 \t [-0.54506922 -0.52918458  0.28080463] \t [ 0.45493078  0.47081542  1.28080463]\n",
      "tmp1_1/add:0 \t [ 0.75396538 -0.01538348  0.01470685] \t [ 1.75396538  0.98461652  1.01470685]\n"
     ]
    }
   ],
   "source": [
    "tf.reset_default_graph()\n",
    "with tf.Session() as sess:\n",
    "    with tf.variable_scope('tmp1', reuse=None) as scope:\n",
    "        a = tf.get_variable('a', [3], dtype=tf.float32)\n",
    "        b = tf.get_variable('b', [3], dtype=tf.float32)\n",
    "        \n",
    "    sess.run(tf.global_variables_initializer())\n",
    "    print(a.name, '\\t', sess.run(a))\n",
    "    print(b.name, '\\t', sess.run(b))\n",
    "    \n",
    "    with tf.variable_scope('tmp1', reuse=None) as scope:\n",
    "        c = a + 1\n",
    "        d = b + 1\n",
    "        \n",
    "    print(c.name, '\\t', sess.run(a), '\\t', sess.run(c))\n",
    "    print(c.name, '\\t', sess.run(b), '\\t', sess.run(d))"
   ]
  },
  {
   "cell_type": "code",
   "execution_count": 9,
   "metadata": {},
   "outputs": [
    {
     "name": "stdout",
     "output_type": "stream",
     "text": [
      "[768.0, 32.0]\n"
     ]
    }
   ],
   "source": [
    "x = tf.Variable(2.0)\n",
    "y = 2.0 * (x ** 3)\n",
    "z = 3.0 + y ** 2\n",
    "grad_z = tf.gradients(z, [x, y])\n",
    "with tf.Session() as sess:\n",
    "    sess.run(x.initializer)\n",
    "    print(sess.run(grad_z))"
   ]
  },
  {
   "cell_type": "markdown",
   "metadata": {
    "collapsed": true
   },
   "source": [
    "### feed_dict"
   ]
  },
  {
   "cell_type": "code",
   "execution_count": 10,
   "metadata": {
    "scrolled": false
   },
   "outputs": [
    {
     "name": "stdout",
     "output_type": "stream",
     "text": [
      "[ 6.  7.  8.]\n"
     ]
    }
   ],
   "source": [
    "a = tf.placeholder(dtype=tf.float32, shape=[3])\n",
    "b = tf.constant(value=[5, 5, 5], dtype=tf.float32)\n",
    "c = a + b\n",
    "\n",
    "with tf.Session() as sess:\n",
    "    print(sess.run(c, feed_dict={a: [1, 2, 3]}))"
   ]
  },
  {
   "cell_type": "code",
   "execution_count": 11,
   "metadata": {},
   "outputs": [
    {
     "name": "stdout",
     "output_type": "stream",
     "text": [
      "[7, 21]\n",
      "[array(15, dtype=int32), 45]\n"
     ]
    }
   ],
   "source": [
    "a = tf.add(2, 5)\n",
    "b = tf.multiply(a, 3)\n",
    "\n",
    "with tf.Session() as sess:\n",
    "    print(sess.run([a, b]))\n",
    "    \n",
    "    replace_dict = {a: 15}\n",
    "    print(sess.run([a, b], feed_dict=replace_dict))"
   ]
  },
  {
   "cell_type": "markdown",
   "metadata": {},
   "source": [
    "### variables"
   ]
  },
  {
   "cell_type": "code",
   "execution_count": 12,
   "metadata": {},
   "outputs": [
    {
     "name": "stdout",
     "output_type": "stream",
     "text": [
      "10\n",
      "100\n",
      "100\n"
     ]
    }
   ],
   "source": [
    "W = tf.Variable(10)\n",
    "assign_op = W.assign(100)\n",
    "\n",
    "with tf.Session() as sess:\n",
    "    sess.run(W.initializer)\n",
    "    print(W.eval()) # >> 10\n",
    "    print(sess.run(assign_op)) # >> 100\n",
    "    print(W.eval()) # >> 100"
   ]
  },
  {
   "cell_type": "code",
   "execution_count": 13,
   "metadata": {},
   "outputs": [
    {
     "name": "stdout",
     "output_type": "stream",
     "text": [
      "20\n",
      "8\n",
      "120\n",
      "-42\n"
     ]
    }
   ],
   "source": [
    "W = tf.Variable(10)\n",
    "sess1 = tf.Session()\n",
    "sess2 = tf.Session()\n",
    "\n",
    "# You have to initialize W at each session\n",
    "sess1.run(W.initializer)\n",
    "sess2.run(W.initializer)\n",
    "\n",
    "print(sess1.run(W.assign_add(10))) # >> 20\n",
    "print(sess2.run(W.assign_sub(2))) # >> 8\n",
    "\n",
    "print(sess1.run(W.assign_add(100))) # >> 120\n",
    "print(sess2.run(W.assign_sub(50))) # >> -42\n",
    "\n",
    "sess1.close()\n",
    "sess2.close()"
   ]
  },
  {
   "cell_type": "code",
   "execution_count": 26,
   "metadata": {},
   "outputs": [
    {
     "name": "stdout",
     "output_type": "stream",
     "text": [
      "[[ 1.  4.  9.]\n",
      " [ 1.  4.  9.]\n",
      " [ 1.  4.  9.]]\n",
      "[ 14.  14.  14.]\n",
      "4.66667\n",
      "14.0\n",
      "[[ 1.  4.  9.]\n",
      " [ 1.  4.  9.]\n",
      " [ 1.  4.  9.]]\n",
      "4.66667\n",
      "14.0\n"
     ]
    }
   ],
   "source": [
    "a = np.array([[1, 2, 3], \n",
    "              [4, 5, 6], \n",
    "              [7, 8, 9]])\n",
    "b = np.array([[2, 4, 6], \n",
    "              [5, 7, 9], \n",
    "              [8, 10, 12]])\n",
    "\n",
    "x = tf.placeholder(tf.float32, [None, 3])\n",
    "y = tf.placeholder(tf.float32, [None, 3])\n",
    "\n",
    "n = len(a)\n",
    "\n",
    "z1 = tf.pow(y - x, 2)\n",
    "z2 = tf.reduce_sum(z1, axis=1)\n",
    "\n",
    "loss1 = tf.reduce_mean(tf.pow(y - x, 2))\n",
    "loss2 = tf.reduce_mean(tf.reduce_sum(tf.pow(y - x, 2), axis=1))\n",
    "loss3 = tf.squared_difference(y, x)\n",
    "loss4 = tf.losses.mean_squared_error(y, x)\n",
    "loss5 = tf.reduce_sum(z1) / n\n",
    "\n",
    "with tf.Session() as sess:\n",
    "    print(sess.run(z1, feed_dict={x: a, y: b}))\n",
    "    print(sess.run(z2, feed_dict={x: a, y: b}))\n",
    "    print(sess.run(loss1, feed_dict={x: a, y: b}))\n",
    "    print(sess.run(loss2, feed_dict={x: a, y: b}))\n",
    "    print(sess.run(loss3, feed_dict={x: a, y: b}))\n",
    "    print(sess.run(loss4, feed_dict={x: a, y: b}))\n",
    "    print(sess.run(loss5, feed_dict={x: a, y: b}))"
   ]
  },
  {
   "cell_type": "code",
   "execution_count": null,
   "metadata": {
    "collapsed": true
   },
   "outputs": [],
   "source": []
  }
 ],
 "metadata": {
  "kernelspec": {
   "display_name": "Python [conda env:tensorflow]",
   "language": "python",
   "name": "conda-env-tensorflow-py"
  },
  "language_info": {
   "codemirror_mode": {
    "name": "ipython",
    "version": 3
   },
   "file_extension": ".py",
   "mimetype": "text/x-python",
   "name": "python",
   "nbconvert_exporter": "python",
   "pygments_lexer": "ipython3",
   "version": "3.6.2"
  }
 },
 "nbformat": 4,
 "nbformat_minor": 2
}
